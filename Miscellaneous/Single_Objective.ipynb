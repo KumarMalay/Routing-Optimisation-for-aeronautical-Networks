{
 "cells": [
  {
   "cell_type": "code",
   "execution_count": 3,
   "metadata": {},
   "outputs": [],
   "source": [
    "import csv \n",
    "import math\n",
    "import pandas as pd"
   ]
  },
  {
   "cell_type": "code",
   "execution_count": 6,
   "metadata": {},
   "outputs": [
    {
     "name": "stdout",
     "output_type": "stream",
     "text": [
      "   AA101  1530270000.000000000000  3.89750000e+04  5.39364400e+01  \\\n",
      "0  AA151             1.530270e+09      35975.0000       49.129004   \n",
      "1  AA198             1.530270e+09          0.0000       39.792819   \n",
      "2  AA204             1.530270e+09          0.0000       40.222121   \n",
      "3  AA209             1.530270e+09      37975.0000       60.809745   \n",
      "4  AA221             1.530270e+09      32988.0208       59.381674   \n",
      "\n",
      "   -1.45025405e+01  \n",
      "0        -4.044335  \n",
      "1       -72.778591  \n",
      "2       -73.325611  \n",
      "3       -29.756008  \n",
      "4       -21.598652  \n"
     ]
    }
   ],
   "source": [
    "data = pd.read_csv(\"NA_11_Jun_29_2018_UTC11.CSV\", sep=\" \")\n",
    "print(data.head())"
   ]
  },
  {
   "cell_type": "code",
   "execution_count": 7,
   "metadata": {},
   "outputs": [],
   "source": [
    "def distance_cal(x1, y1, z1, x2, y2, z2):\n",
    "    return math.sqrt((x2 - x1) ** 2 + (y2 - y1) ** 2 + (z2 - z1) ** 2)"
   ]
  },
  {
   "cell_type": "code",
   "execution_count": null,
   "metadata": {},
   "outputs": [],
   "source": [
    "# Load and preprocess the dataset\n",
    "airplanes = []\n",
    "ground_stations = []\n",
    "\n",
    "with open('NA_11_Jun_29_2018_UTC11_Output_1.csv', 'r') as file:\n",
    "    reader = csv.reader(file)\n",
    "    next(reader)  # Skip the header row\n",
    "    for row in reader:\n",
    "        flight_no = row[0]\n",
    "        altitude = float(row[2])\n",
    "        latitude = float(row[3])\n",
    "        longitude = float(row[4])\n",
    "\n",
    "        # Convert latitude, longitude, and altitude to 3D Cartesian coordinates\n",
    "        x = (math.cos(math.radians(latitude)) * math.cos(math.radians(longitude))) * altitude\n",
    "        y = (math.cos(math.radians(latitude)) * math.sin(math.radians(longitude))) * altitude\n",
    "        z = math.sin(math.radians(latitude)) * altitude\n",
    "\n",
    "        if flight_no.startswith('AA'):\n",
    "            airplanes.append((flight_no, x, y, z))\n",
    "        else:\n",
    "            ground_stations.append((flight_no, x, y, z))\n"
   ]
  },
  {
   "cell_type": "code",
   "execution_count": null,
   "metadata": {},
   "outputs": [],
   "source": [
    "# Function to calculate the data transmission rate based on the distance between airplanes\n",
    "def calculate_transmission_rate(distance):\n",
    "    if 300 < distance <= 400:\n",
    "        return 52.875\n",
    "    elif 400 < distance <= 500:\n",
    "        return 31.895\n",
    "    elif 400 < distance <= 450:\n",
    "        return 52.839\n",
    "    elif \n",
    "    else:\n",
    "        return 0.0  # Default rate if the distance is out of range\n",
    "\n"
   ]
  },
  {
   "cell_type": "code",
   "execution_count": null,
   "metadata": {},
   "outputs": [],
   "source": [
    "# Function to find the routing path with maximum end-to-end data transmission rate for each airplane\n",
    "def find_max_data_rate_routing_paths(airplanes, ground_stations):\n",
    "    routing_paths = []\n",
    "\n",
    "    for airplane in airplanes:\n",
    "        airplane_id, x_airplane, y_airplane, z_airplane = airplane\n",
    "        max_data_rate = 0.0\n",
    "        max_data_rate_path = []\n",
    "\n",
    "        for ground_station in ground_stations:\n",
    "            ground_station_id, x_gs, y_gs, z_gs = ground_station\n",
    "\n",
    "            # Calculate the distance between the airplane and ground station\n",
    "            distance = calculate_distance(x_airplane, y_airplane, z_airplane, x_gs, y_gs, z_gs)\n",
    "\n",
    "            # Calculate the data transmission rate for the link\n",
    "            transmission_rate = calculate_transmission_rate(distance)\n",
    "\n",
    "            if transmission_rate > max_data_rate:\n",
    "                max_data_rate = transmission_rate\n",
    "                max_data_rate_path = [(ground_station_id, max_data_rate)]\n",
    "\n",
    "        routing_paths.append({'Airplane': airplane_id, 'Routing Path': max_data_rate_path, 'End-to-End Data Rate': max_data_rate})\n",
    "\n",
    "    return routing_paths\n",
    "\n",
    "# Call the function to find the routing paths with maximum data transmission rate\n",
    "routing_paths = find_max_data_rate_routing_paths(airplanes, ground_stations)\n",
    "\n",
    "# Print the routing paths and their respective data transmission rates\n",
    "for path in routing_paths:\n",
    "    print(path)"
   ]
  }
 ],
 "metadata": {
  "kernelspec": {
   "display_name": "base",
   "language": "python",
   "name": "python3"
  },
  "language_info": {
   "codemirror_mode": {
    "name": "ipython",
    "version": 3
   },
   "file_extension": ".py",
   "mimetype": "text/x-python",
   "name": "python",
   "nbconvert_exporter": "python",
   "pygments_lexer": "ipython3",
   "version": "3.10.9"
  },
  "orig_nbformat": 4
 },
 "nbformat": 4,
 "nbformat_minor": 2
}
