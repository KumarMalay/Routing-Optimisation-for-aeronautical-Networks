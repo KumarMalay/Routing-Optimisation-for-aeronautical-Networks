{
 "cells": [
  {
   "attachments": {},
   "cell_type": "markdown",
   "metadata": {},
   "source": [
    "### Find a routing path having the maximum end-to-end data transmission rate"
   ]
  },
  {
   "cell_type": "code",
   "execution_count": 1,
   "metadata": {},
   "outputs": [],
   "source": [
    "import pandas as pd\n",
    "import numpy as np\n",
    "import math\n",
    "dataset = \"NA_11_Jun_29_2018_UTC11.CSV\"\n",
    "data = pd.read_csv(dataset, header = None)\n",
    "earth_radius = 6371"
   ]
  },
  {
   "cell_type": "code",
   "execution_count": 2,
   "metadata": {},
   "outputs": [
    {
     "name": "stdout",
     "output_type": "stream",
     "text": [
      "                                                   0\n",
      "0  AA101 1530270000.000000000000 3.89750000e+04 5...\n",
      "1  AA151 1530270000.000000000000 3.59750000e+04 4...\n",
      "2  AA198 1530270000.000000000000 0.00000000e+00 3...\n",
      "3  AA204 1530270000.000000000000 0.00000000e+00 4...\n",
      "4  AA209 1530270000.000000000000 3.79750000e+04 6...\n"
     ]
    }
   ],
   "source": [
    "print(data.head(5))"
   ]
  },
  {
   "attachments": {},
   "cell_type": "markdown",
   "metadata": {},
   "source": [
    "#### Converting to 3D Coordination"
   ]
  },
  {
   "cell_type": "code",
   "execution_count": 3,
   "metadata": {},
   "outputs": [],
   "source": [
    "def convert(latitude, longitude, altitude = 0):\n",
    "\n",
    "    \n",
    "    # Convert latitude and longitude to radians\n",
    "    latitude_rad = math.radians(latitude)\n",
    "    longitude_rad = math.radians(longitude)\n",
    "\n",
    "    # Define WGS84 ellipsoid parameters\n",
    "    # World Geodetic System 1984\n",
    "    equatorial_radius = 6378.137  # kilometers\n",
    "    polar_radius = 6356.752  # kilometers\n",
    "    eccentricity = math.sqrt(1 - (polar_radius ** 2) / (equatorial_radius ** 2))\n",
    "\n",
    "    # Calculate Cartesian coordinates\n",
    "    x = (equatorial_radius + altitude) * math.cos(latitude_rad) * math.cos(longitude_rad)\n",
    "    y = (equatorial_radius + altitude) * math.cos(latitude_rad) * math.sin(longitude_rad)\n",
    "    z = ((equatorial_radius * (1 - eccentricity ** 2)) + altitude) * math.sin(latitude_rad)\n",
    "    return x, y, z\n"
   ]
  },
  {
   "cell_type": "code",
   "execution_count": 4,
   "metadata": {},
   "outputs": [],
   "source": [
    "def calculate_distance(lat1, lon1, alt1, lat2, lon2, alt2):\n",
    "    # earth_radius = 6371  # Radius of the Earth in kilometers\n",
    "    # lat1_rad = math.radians(lat1)\n",
    "    # lon1_rad = math.radians(lon1)\n",
    "    # lat2_rad = math.radians(lat2)\n",
    "    # lon2_rad = math.radians(lon2)\n",
    "\n",
    "    # x1 = (earth_radius + alt1) * math.cos(lat1_rad) * math.cos(lon1_rad)\n",
    "    # y1 = (earth_radius + alt1) * math.cos(lat1_rad) * math.sin(lon1_rad)\n",
    "    # z1 = (earth_radius + alt1) * math.sin(lat1_rad)\n",
    "\n",
    "    # x2 = (earth_radius + alt2) * math.cos(lat2_rad) * math.cos(lon2_rad)\n",
    "    # y2 = (earth_radius + alt2) * math.cos(lat2_rad) * math.sin(lon2_rad)\n",
    "    # z2 = (earth_radius + alt2) * math.sin(lat2_rad)\n",
    "\n",
    "    var1 = convert(lat1, lon1, alt1)\n",
    "    var2 = convert(lat2, lon2, alt2)\n",
    "\n",
    "    distance = math.sqrt((var2[0] - var1[0])**2 + (var2[1] - var1[1])**2 + (var2[2] - var1[2])**2)\n",
    "    return distance"
   ]
  },
  {
   "cell_type": "code",
   "execution_count": 5,
   "metadata": {},
   "outputs": [],
   "source": [
    "# Single-objective optimisation: Find a routing path having the maximum end-to-end data transmission rate\n",
    "def calc_data_transmission_rate(distance_km):\n",
    "    if distance_km < 300:\n",
    "        return 52.857\n",
    "    elif 300 < distance_km < 400:\n",
    "        return 43.505\n",
    "    elif 400 < distance_km < 500:\n",
    "        return 31.895\n",
    "    elif 90 < distance_km < 190:\n",
    "        return 63.970\n",
    "    elif 35 < distance_km < 90:\n",
    "        return 93.854\n",
    "    elif distance_km < 5.56:\n",
    "        return 1119.130"
   ]
  },
  {
   "cell_type": "code",
   "execution_count": 6,
   "metadata": {},
   "outputs": [
    {
     "ename": "NameError",
     "evalue": "name 'distance' is not defined",
     "output_type": "error",
     "traceback": [
      "\u001b[1;31m---------------------------------------------------------------------------\u001b[0m",
      "\u001b[1;31mNameError\u001b[0m                                 Traceback (most recent call last)",
      "Cell \u001b[1;32mIn[6], line 1\u001b[0m\n\u001b[1;32m----> 1\u001b[0m calc_data_transmission_rate(distance)\n",
      "\u001b[1;31mNameError\u001b[0m: name 'distance' is not defined"
     ]
    }
   ],
   "source": [
    "calc_data_transmission_rate(distance)"
   ]
  },
  {
   "cell_type": "code",
   "execution_count": null,
   "metadata": {},
   "outputs": [],
   "source": [
    "# Step 4: Implement optimization algorithms\n",
    "def single_objective_optimization(data, gs_location):\n",
    "    routes = []\n",
    "    for _, row in data.iterrows():\n",
    "        start_airplane = row[0]\n",
    "        start_pos = row[['x', 'y', 'z']]\n",
    "        gs_pos = gs_location[['x', 'y', 'z']].values\n",
    "        \n",
    "        dist_to_gs = distance.cdist([start_pos], gs_pos)[0][0]\n",
    "        transmission_rate = calculate_data_transmission_rate(dist_to_gs)\n",
    "        \n",
    "        route = {'Airplane': start_airplane, 'RoutingPath': [(start_airplane, transmission_rate)]}\n",
    "        routes.append(route)\n",
    "    \n",
    "    return routes\n"
   ]
  },
  {
   "cell_type": "code",
   "execution_count": null,
   "metadata": {},
   "outputs": [],
   "source": [
    "LHR_location = pd.DataFrame({'x': [earth_radius * np.cos(np.radians(51.4700)) * np.cos(np.radians(0.4543))],\n",
    "                             'y': [earth_radius * np.cos(np.radians(51.4700)) * np.sin(np.radians(0.4543))],\n",
    "                             'z': [earth_radius * np.sin(np.radians(51.4700))]})"
   ]
  },
  {
   "cell_type": "code",
   "execution_count": null,
   "metadata": {},
   "outputs": [],
   "source": [
    "\n",
    "# for row in data:\n",
    "#     # latitude = data[3].loc[i]\n",
    "#     # longitude = data[4].loc[i]\n",
    "#     # altitude = data[2].loc[i]\n",
    "#     latitude = row[3]\n",
    "#     longitude = row[4]\n",
    "#     altitude = row[2]\n",
    "#     coordinates = convert(latitude, longitude, altitude)\n",
    "#     x = coordinates[0]\n",
    "#     y = coordinates[1]\n",
    "#     z = coordinates[2]\n",
    "#     # data.extend([x, y, z])\n",
    "#     data[5] = x\n",
    "#     data.append(y)\n",
    "#     data.append(z)\n",
    "#     # data.to_csv(\"Coordinate_addition\", index  = False)\n",
    "\n"
   ]
  }
 ],
 "metadata": {
  "kernelspec": {
   "display_name": "base",
   "language": "python",
   "name": "python3"
  },
  "language_info": {
   "codemirror_mode": {
    "name": "ipython",
    "version": 3
   },
   "file_extension": ".py",
   "mimetype": "text/x-python",
   "name": "python",
   "nbconvert_exporter": "python",
   "pygments_lexer": "ipython3",
   "version": "3.10.9"
  },
  "orig_nbformat": 4
 },
 "nbformat": 4,
 "nbformat_minor": 2
}
