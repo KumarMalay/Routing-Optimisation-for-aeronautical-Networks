{
 "cells": [
  {
   "attachments": {},
   "cell_type": "markdown",
   "metadata": {},
   "source": [
    "### ***READING THE DATASET***\n",
    "#### Correction the Dataset\n"
   ]
  },
  {
   "cell_type": "code",
   "execution_count": 11,
   "metadata": {},
   "outputs": [
    {
     "name": "stdout",
     "output_type": "stream",
     "text": [
      "  Flight No     TimeStamp  Altitude   Latitude  longitude\n",
      "0     AA101  1.530270e+09   38975.0  53.936440 -14.502541\n",
      "1     AA151  1.530270e+09   35975.0  49.129004  -4.044335\n",
      "2     AA198  1.530270e+09       0.0  39.792819 -72.778591\n",
      "3     AA204  1.530270e+09       0.0  40.222121 -73.325611\n",
      "4     AA209  1.530270e+09   37975.0  60.809745 -29.756008\n"
     ]
    }
   ],
   "source": [
    "import math\n",
    "import pandas as pd\n",
    "#Adding Column Name\n",
    "column_name = [\"Flight No\", \"TimeStamp\", \"Altitude\", \"Latitude\", \"longitude\"]\n",
    "#Reading CSV file\n",
    "df = pd.read_csv(\"NA_11_Jun_29_2018_UTC11.CSV\", sep=\" \", names = column_name)\n",
    "#Updated CSV file\n",
    "df.to_csv(\"NA_11_Jun_29_2018_UTC11_Output.CSV\", index=False)\n",
    "print(df.head())"
   ]
  },
  {
   "attachments": {},
   "cell_type": "markdown",
   "metadata": {},
   "source": [
    "### Updated CSV File"
   ]
  },
  {
   "cell_type": "code",
   "execution_count": 12,
   "metadata": {},
   "outputs": [
    {
     "name": "stdout",
     "output_type": "stream",
     "text": [
      "  Flight No     TimeStamp  Altitude   Latitude  longitude\n",
      "0     AA101  1.530270e+09   38975.0  53.936440 -14.502541\n",
      "1     AA151  1.530270e+09   35975.0  49.129004  -4.044335\n",
      "2     AA198  1.530270e+09       0.0  39.792819 -72.778591\n",
      "3     AA204  1.530270e+09       0.0  40.222121 -73.325611\n",
      "4     AA209  1.530270e+09   37975.0  60.809745 -29.756008\n",
      "    Flight No     TimeStamp    Altitude   Latitude  longitude\n",
      "144     UA963  1.530270e+09  32000.0000  53.959758 -22.201168\n",
      "145     UA971  1.530270e+09  34000.0000  53.397706  -2.947119\n",
      "146     UA973  1.530270e+09  33996.3115  55.451382  -8.613339\n",
      "147     UA975  1.530270e+09  32000.0000  49.448514  -3.242188\n",
      "148     UA986  1.530270e+09  33986.1538  52.085831  -4.653686\n"
     ]
    }
   ],
   "source": [
    "df = pd.read_csv(\"NA_11_Jun_29_2018_UTC11_Output.CSV\")\n",
    "print(df.head())\n",
    "print(df.tail())"
   ]
  },
  {
   "attachments": {},
   "cell_type": "markdown",
   "metadata": {},
   "source": [
    "### Creating dataset for transmission link"
   ]
  },
  {
   "cell_type": "code",
   "execution_count": 13,
   "metadata": {},
   "outputs": [],
   "source": [
    "data = {\"Mode k\":[1, 2, 3, 4, 5, 6, 7], \n",
    "        \"Mode Color\":[\"Red\", \"Orange\", \"Yellow\", \"Green\", \"Blue\", \"Pink\", \"Purple\"], \n",
    "        \"Switching Threshold(km)\":[500, 400, 300, 190, 90, 35, 5.56],\n",
    "        \"transmission Rate\": [31.895, 43.505, 52.857, 63.970, 77.071, 93.854, 119.130]}"
   ]
  },
  {
   "cell_type": "code",
   "execution_count": 14,
   "metadata": {},
   "outputs": [],
   "source": [
    "df_trans = pd.DataFrame(data)\n",
    "df_trans.to_csv(\"Transmission Link.csv\", index = False)"
   ]
  },
  {
   "cell_type": "code",
   "execution_count": 15,
   "metadata": {},
   "outputs": [
    {
     "name": "stdout",
     "output_type": "stream",
     "text": [
      "   Mode k Mode Color  Switching Threshold(km)  transmission Rate\n",
      "0       1        Red                   500.00             31.895\n",
      "1       2     Orange                   400.00             43.505\n",
      "2       3     Yellow                   300.00             52.857\n",
      "3       4      Green                   190.00             63.970\n",
      "4       5       Blue                    90.00             77.071\n",
      "5       6       Pink                    35.00             93.854\n",
      "6       7     Purple                     5.56            119.130\n"
     ]
    }
   ],
   "source": [
    "print(df_trans)"
   ]
  }
 ],
 "metadata": {
  "kernelspec": {
   "display_name": "base",
   "language": "python",
   "name": "python3"
  },
  "language_info": {
   "codemirror_mode": {
    "name": "ipython",
    "version": 3
   },
   "file_extension": ".py",
   "mimetype": "text/x-python",
   "name": "python",
   "nbconvert_exporter": "python",
   "pygments_lexer": "ipython3",
   "version": "3.10.9"
  },
  "orig_nbformat": 4
 },
 "nbformat": 4,
 "nbformat_minor": 2
}
