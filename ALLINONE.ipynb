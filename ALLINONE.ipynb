{
 "cells": [
  {
   "attachments": {},
   "cell_type": "markdown",
   "metadata": {},
   "source": [
    "#### Dataset Correction"
   ]
  },
  {
   "cell_type": "code",
   "execution_count": 25,
   "metadata": {},
   "outputs": [
    {
     "name": "stdout",
     "output_type": "stream",
     "text": [
      "  Flight No.     Timestamp    Altitude   Latitude  Longitude\n",
      "0      AA101  1.530270e+09  38975.0000  53.936440 -14.502541\n",
      "1      AA151  1.530270e+09  35975.0000  49.129004  -4.044335\n",
      "2      AA198  1.530270e+09      0.0000  39.792819 -72.778591\n",
      "3      AA204  1.530270e+09      0.0000  40.222121 -73.325611\n",
      "4      AA209  1.530270e+09  37975.0000  60.809745 -29.756008\n",
      "5      AA221  1.530270e+09  32988.0208  59.381674 -21.598652\n",
      "6       AA25  1.530270e+09  34000.0000  54.977373 -20.131168\n",
      "7      AA258  1.530270e+09      0.0000  39.007541  -8.613116\n",
      "8      AA291  1.530270e+09  34228.0290  52.983363 -23.482031\n",
      "9       AA37  1.530270e+09  35982.3779  43.702034 -18.503210\n"
     ]
    }
   ],
   "source": [
    "import pandas as pd\n",
    "import numpy as np\n",
    "import math\n",
    "import csv\n",
    "\n",
    "columns = ['Flight No.', 'Timestamp', 'Altitude', 'Latitude', 'Longitude']\n",
    "# Step 1: Read and preprocess the dataset\n",
    "dataset = pd.read_csv(\"NA_11_Jun_29_2018_UTC11.CSV\", sep = \" \", names = columns)\n",
    "\n",
    "dataset.to_csv(\"NA_11_Jun_29_2018_UTC11_Output.CSV\", index = False)\n",
    "# Extract the necessary columns: Flight No., Timestamp, Altitude, Latitude, and Longitude\n",
    "print(dataset.head(10))"
   ]
  },
  {
   "attachments": {},
   "cell_type": "markdown",
   "metadata": {},
   "source": [
    "#### Creating dataset for transmission link"
   ]
  },
  {
   "cell_type": "code",
   "execution_count": 26,
   "metadata": {},
   "outputs": [
    {
     "name": "stdout",
     "output_type": "stream",
     "text": [
      "   Mode k Mode Color  Switching Threshold(km)  transmission Rate\n",
      "0       1        Red                   500.00             31.895\n",
      "1       2     Orange                   400.00             43.505\n",
      "2       3     Yellow                   300.00             52.857\n",
      "3       4      Green                   190.00             63.970\n",
      "4       5       Blue                    90.00             77.071\n",
      "5       6       Pink                    35.00             93.854\n",
      "6       7     Purple                     5.56            119.130\n"
     ]
    }
   ],
   "source": [
    "data_trans = {\"Mode k\":[1, 2, 3, 4, 5, 6, 7], \n",
    "        \"Mode Color\":[\"Red\", \"Orange\", \"Yellow\", \"Green\", \"Blue\", \"Pink\", \"Purple\"], \n",
    "        \"Switching Threshold(km)\":[500, 400, 300, 190, 90, 35, 5.56],\n",
    "        \"transmission Rate\": [31.895, 43.505, 52.857, 63.970, 77.071, 93.854, 119.130]}\n",
    "df_trans = pd.DataFrame(data_trans)\n",
    "df_trans.to_csv(\"Transmission Link.csv\", index = False)\n",
    "print(df_trans)"
   ]
  },
  {
   "attachments": {},
   "cell_type": "markdown",
   "metadata": {},
   "source": [
    "#### Conversion to 3D Cartesian Coordinate and finding the Distance Between them "
   ]
  },
  {
   "cell_type": "code",
   "execution_count": 27,
   "metadata": {},
   "outputs": [],
   "source": [
    "def calculate_distance(lat1, lon1, alt1, lat2, lon2, alt2):\n",
    "    earth_radius = 6371  # Radius of the Earth in kilometers\n",
    "    lat1_rad = math.radians(lat1)\n",
    "    lon1_rad = math.radians(lon1)\n",
    "    lat2_rad = math.radians(lat2)\n",
    "    lon2_rad = math.radians(lon2)\n",
    "\n",
    "    equatorial_radius = 6378.137  # kilometers\n",
    "    polar_radius = 6356.752  # kilometers\n",
    "    eccentricity = math.sqrt(1 - (polar_radius ** 2) / (equatorial_radius ** 2))\n",
    "\n",
    "    x1 = (equatorial_radius + alt1) * math.cos(lat1_rad) * math.cos(lon1_rad)\n",
    "    y1 = (equatorial_radius + alt1) * math.cos(lat1_rad) * math.sin(lon1_rad)\n",
    "    z1 = ((equatorial_radius * (1 - eccentricity ** 2)) + alt1) * math.sin(lat1_rad)\n",
    "\n",
    "\n",
    "    x2 = (equatorial_radius + alt2) * math.cos(lat2_rad) * math.cos(lon2_rad)\n",
    "    y2 = (equatorial_radius + alt2) * math.cos(lat2_rad) * math.sin(lon2_rad)\n",
    "    z2 = ((equatorial_radius * (1 - eccentricity ** 2)) + alt2) * math.sin(lat2_rad)\n",
    "\n",
    "    distance = math.sqrt((x2 - x1)**2 + (y2 - y1)**2 + (z2 - z1)**2)\n",
    "    return distance"
   ]
  },
  {
   "attachments": {},
   "cell_type": "markdown",
   "metadata": {},
   "source": [
    "#### Conversion to 3D Cartesian Coordinates for single value"
   ]
  },
  {
   "cell_type": "code",
   "execution_count": 28,
   "metadata": {},
   "outputs": [],
   "source": [
    "def Convert_3D(latitude, longitude, altitude):\n",
    "    \n",
    "    earth_radius = 6371  # Radius of the Earth in kilometers\n",
    "    latitude_rad = math.radians(latitude)\n",
    "    longitude_rad = math.radians(longitude)\n",
    "\n",
    "    equatorial_radius = 6378.137  # kilometers\n",
    "    polar_radius = 6356.752  # kilometers\n",
    "    eccentricity = math.sqrt(1 - (polar_radius ** 2) / (equatorial_radius ** 2))\n",
    "\n",
    "    # Heathrow Airport coordinates to x, y, z coordinates\n",
    "    x = (equatorial_radius + altitude) * math.cos(latitude_rad) * math.cos(longitude_rad)\n",
    "    y = (equatorial_radius + altitude) * math.cos(latitude_rad) * math.sin(longitude_rad)\n",
    "    z = ((equatorial_radius * (1 - eccentricity ** 2)) + altitude) * math.sin(latitude_rad)\n",
    "    \n",
    "    return x, y, z"
   ]
  },
  {
   "attachments": {},
   "cell_type": "markdown",
   "metadata": {},
   "source": [
    "#### To find transmission rate"
   ]
  },
  {
   "attachments": {},
   "cell_type": "markdown",
   "metadata": {},
   "source": [
    "##### Function to calculate the data transmission rate based on the distance between airplanes"
   ]
  },
  {
   "cell_type": "code",
   "execution_count": 29,
   "metadata": {},
   "outputs": [],
   "source": [
    "def calculate_transmission_rate(distance):\n",
    "    if 300 <= distance < 400:\n",
    "        return 52.857\n",
    "    elif 400 <= distance < 500:\n",
    "        return 43.505\n",
    "    elif 500 <= distance:\n",
    "        return 31.895\n",
    "    elif 190 <= distance < 300:\n",
    "        return 63.970\n",
    "    elif 90 <= distance < 190:\n",
    "        return 77.071\n",
    "    elif 35 <= distance < 90:\n",
    "        return 93.854\n",
    "    elif 5.56 <= distance < 35:\n",
    "        return 119.130\n",
    "    else:\n",
    "        return 0"
   ]
  },
  {
   "attachments": {},
   "cell_type": "markdown",
   "metadata": {},
   "source": [
    "#### Single Objective Optimization"
   ]
  },
  {
   "cell_type": "code",
   "execution_count": 30,
   "metadata": {},
   "outputs": [],
   "source": [
    "# Load and preprocess the dataset\n",
    "airplanes = []\n",
    "ground_stations = []\n",
    "\n",
    "flight_name=input(\"Enter starting string code of flight: \")\n",
    "with open('NA_11_Jun_29_2018_UTC11_Output.csv', 'r') as file:\n",
    "    reader = csv.reader(file)\n",
    "    next(reader)  # Skip the header row\n",
    "    for row in reader:\n",
    "        flight_no = row[0]\n",
    "        altitude = float(row[2])\n",
    "        latitude = float(row[3])\n",
    "        longitude = float(row[4])\n",
    "\n",
    "        # Convert latitude, longitude, and altitude to 3D Cartesian coordinates\n",
    "        coordinates = Convert_3D(longitude, latitude, altitude)\n",
    "        x = coordinates[0]\n",
    "        y = coordinates[1]\n",
    "        z = coordinates[2]\n",
    "\n",
    "        if flight_no.startswith(flight_name):\n",
    "            airplanes.append((flight_no, x, y, z))\n",
    "        else:\n",
    "            ground_stations.append((flight_no, x, y, z))\n",
    "\n",
    "        # if flight_no.startswith('AA'):\n",
    "        #     airplanes.append((flight_no, x, y, z))\n",
    "        # else:\n",
    "        #     ground_stations.append((flight_no, x, y, z))\n",
    "        \n",
    "        # if flight_no.startswith('BA'):\n",
    "        #     airplanes.append((flight_no, x, y, z))\n",
    "        # else:\n",
    "        #     ground_stations.append((flight_no, x, y, z))\n",
    "        \n",
    "        # if flight_no.startswith('DA'):\n",
    "        #     airplanes.append((flight_no, x, y, z))\n",
    "        # else:\n",
    "        #     ground_stations.append((flight_no, x, y, z))\n",
    "\n",
    "        # if flight_no.startswith('LH'):\n",
    "        #     airplanes.append((flight_no, x, y, z))\n",
    "        # else:\n",
    "        #     ground_stations.append((flight_no, x, y, z))\n",
    "\n",
    "        # if flight_no.startswith('UA'):\n",
    "        #     airplanes.append((flight_no, x, y, z))\n",
    "        # else:\n",
    "        #     ground_stations.append((flight_no, x, y, z))"
   ]
  },
  {
   "cell_type": "code",
   "execution_count": 31,
   "metadata": {},
   "outputs": [
    {
     "name": "stdout",
     "output_type": "stream",
     "text": [
      "{'Airplane': 'AA37', 'Routing Path': [('AA101', 31.895)], 'End-to-End Data Rate': 31.895}\n"
     ]
    }
   ],
   "source": [
    "def find_max_data_rate_routing_paths(airplanes, ground_stations):\n",
    "    routing_paths = []\n",
    "\n",
    "    for airplane in airplanes:\n",
    "        airplane_id, x_airplane, y_airplane, z_airplane = airplane\n",
    "        max_data_rate = 0.0\n",
    "        max_data_rate_path = []\n",
    "\n",
    "        for ground_station in ground_stations:\n",
    "            ground_station_id, x_gs, y_gs, z_gs = ground_station\n",
    "\n",
    "            # Calculate the distance between the airplane and ground station\n",
    "            distance = calculate_distance(x_airplane, y_airplane, z_airplane, x_gs, y_gs, z_gs)\n",
    "\n",
    "            # Calculate the data transmission rate for the link\n",
    "            transmission_rate = calculate_transmission_rate(distance)\n",
    "\n",
    "            if transmission_rate > max_data_rate:\n",
    "                max_data_rate = transmission_rate\n",
    "                max_data_rate_path = [(ground_station_id, max_data_rate)]\n",
    "            # elif transmission_rate == max_data_rate:\n",
    "            #     max_data_rate_path.append((ground_station_id, max_data_rate))\n",
    "\n",
    "\n",
    "        routing_paths.append({'Airplane': airplane_id, 'Routing Path': max_data_rate_path, 'End-to-End Data Rate': max_data_rate})\n",
    "\n",
    "    return routing_paths\n",
    "\n",
    "# Call the function to find the routing paths with maximum data transmission rate\n",
    "routing_paths = find_max_data_rate_routing_paths(airplanes, ground_stations)\n",
    "all_routing_paths = find_max_data_rate_routing_paths(airplanes, ground_stations)\n",
    "\n",
    "\n",
    "# Print and store the routing paths in a text file\n",
    "with open('routing_paths.txt', 'w') as file:\n",
    "    for path in all_routing_paths:\n",
    "        file.write(str(path) + '\\n')\n",
    "        \n",
    "# Print the routing paths and their respective data transmission rates\n",
    "for path in routing_paths:\n",
    "    print(path)"
   ]
  },
  {
   "cell_type": "markdown",
   "metadata": {},
   "source": [
    "### Multiple objective optimisation"
   ]
  },
  {
   "cell_type": "code",
   "execution_count": 32,
   "metadata": {},
   "outputs": [
    {
     "name": "stdout",
     "output_type": "stream",
     "text": [
      "{'Airplane': 'AA37', 'Optimal Path': [('AA101', 31.895, 74.29584895383789)], 'End-to-End Data Rate': 31.895, 'End-to-End Latency': 74.29584895383789}\n"
     ]
    }
   ],
   "source": [
    "def find_optimal_routing_paths(airplanes, ground_stations):\n",
    "    routing_paths = []\n",
    "\n",
    "    for airplane in airplanes:\n",
    "        airplane_id, x_airplane, y_airplane, z_airplane = airplane\n",
    "        optimal_path = []\n",
    "        max_data_rate = 0.0\n",
    "        min_latency = float('inf')\n",
    "\n",
    "        for ground_station in ground_stations:\n",
    "            ground_station_id, x_gs, y_gs, z_gs = ground_station\n",
    "\n",
    "            # Calculate the distance between the airplane and ground station\n",
    "            distance = calculate_distance(x_airplane, y_airplane, z_airplane, x_gs, y_gs, z_gs)\n",
    "\n",
    "            # Calculate the data transmission rate for the link\n",
    "            transmission_rate = calculate_transmission_rate(distance)\n",
    "\n",
    "            if transmission_rate == 0:\n",
    "                latency = float('inf')\n",
    "            else:\n",
    "                # Calculate the latency for the link\n",
    "                latency = distance / transmission_rate\n",
    "\n",
    "            if transmission_rate > max_data_rate:\n",
    "                max_data_rate = transmission_rate\n",
    "                min_latency = latency\n",
    "                optimal_path = [(ground_station_id, max_data_rate, min_latency)]\n",
    "            elif transmission_rate == max_data_rate and latency < min_latency:\n",
    "                min_latency = latency\n",
    "                optimal_path = [(ground_station_id, max_data_rate, min_latency)]\n",
    "\n",
    "        routing_paths.append({'Airplane': airplane_id, 'Optimal Path': optimal_path, 'End-to-End Data Rate': max_data_rate, 'End-to-End Latency': min_latency})\n",
    "\n",
    "    return routing_paths\n",
    "\n",
    "# Call the function to find the optimal routing paths with maximum data transmission rate and minimum latency\n",
    "optimal_routing_paths = find_optimal_routing_paths(airplanes, ground_stations)\n",
    "\n",
    "# Print and store the optimal routing paths in a text file\n",
    "with open('optimal_routing_paths.txt', 'w') as file:\n",
    "    for path in optimal_routing_paths:\n",
    "        file.write(str(path) + '\\n')\n",
    "        print(path)\n"
   ]
  }
 ],
 "metadata": {
  "kernelspec": {
   "display_name": "base",
   "language": "python",
   "name": "python3"
  },
  "language_info": {
   "codemirror_mode": {
    "name": "ipython",
    "version": 3
   },
   "file_extension": ".py",
   "mimetype": "text/x-python",
   "name": "python",
   "nbconvert_exporter": "python",
   "pygments_lexer": "ipython3",
   "version": "3.10.9"
  },
  "orig_nbformat": 4
 },
 "nbformat": 4,
 "nbformat_minor": 2
}
