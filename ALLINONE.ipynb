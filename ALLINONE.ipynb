{
 "cells": [
  {
   "attachments": {},
   "cell_type": "markdown",
   "metadata": {},
   "source": [
    "#### Dataset Correction"
   ]
  },
  {
   "cell_type": "code",
   "execution_count": null,
   "metadata": {},
   "outputs": [],
   "source": [
    "import pandas as pd\n",
    "import numpy as np\n",
    "import math\n",
    "import csv\n",
    "\n",
    "columns = ['Flight No.', 'Timestamp', 'Altitude', 'Latitude', 'Longitude']\n",
    "# Step 1: Read and preprocess the dataset\n",
    "dataset = pd.read_csv(\"NA_11_Jun_29_2018_UTC11.CSV\", sep = \" \", names = columns)\n",
    "\n",
    "dataset.to_csv(\"NA_11_Jun_29_2018_UTC11_Output.CSV\", index = False)\n",
    "# Extract the necessary columns: Flight No., Timestamp, Altitude, Latitude, and Longitude\n",
    "print(dataset.head(5))"
   ]
  },
  {
   "attachments": {},
   "cell_type": "markdown",
   "metadata": {},
   "source": [
    "#### Creating dataset for transmission link"
   ]
  },
  {
   "cell_type": "code",
   "execution_count": null,
   "metadata": {},
   "outputs": [],
   "source": [
    "data_trans = {\"Mode k\":[1, 2, 3, 4, 5, 6, 7], \n",
    "        \"Mode Color\":[\"Red\", \"Orange\", \"Yellow\", \"Green\", \"Blue\", \"Pink\", \"Purple\"], \n",
    "        \"Switching Threshold(km)\":[500, 400, 300, 190, 90, 35, 5.56],\n",
    "        \"transmission Rate\": [31.895, 43.505, 52.857, 63.970, 77.071, 93.854, 119.130]}\n",
    "df_trans = pd.DataFrame(data_trans)\n",
    "df_trans.to_csv(\"Transmission Link.csv\", index = False)\n",
    "print(df_trans)"
   ]
  },
  {
   "attachments": {},
   "cell_type": "markdown",
   "metadata": {},
   "source": [
    "#### Conversion to 3D Cartesian Coordinate and finding the Distance Between them "
   ]
  },
  {
   "cell_type": "code",
   "execution_count": null,
   "metadata": {},
   "outputs": [],
   "source": [
    "def calculate_distance(lat1, lon1, alt1, lat2, lon2, alt2):\n",
    "    earth_radius = 6371  # Radius of the Earth in kilometers\n",
    "    lat1_rad = math.radians(lat1)\n",
    "    lon1_rad = math.radians(lon1)\n",
    "    lat2_rad = math.radians(lat2)\n",
    "    lon2_rad = math.radians(lon2)\n",
    "\n",
    "    equatorial_radius = 6378.137  # kilometers\n",
    "    polar_radius = 6356.752  # kilometers\n",
    "    eccentricity = math.sqrt(1 - (polar_radius ** 2) / (equatorial_radius ** 2))\n",
    "\n",
    "    x1 = (equatorial_radius + alt1) * math.cos(lat1_rad) * math.cos(lon1_rad)\n",
    "    y1 = (equatorial_radius + alt1) * math.cos(lat1_rad) * math.sin(lon1_rad)\n",
    "    z1 = ((equatorial_radius * (1 - eccentricity ** 2)) + alt1) * math.sin(lat1_rad)\n",
    "\n",
    "\n",
    "    x2 = (equatorial_radius + alt2) * math.cos(lat2_rad) * math.cos(lon2_rad)\n",
    "    y2 = (equatorial_radius + alt2) * math.cos(lat2_rad) * math.sin(lon2_rad)\n",
    "    z2 = ((equatorial_radius * (1 - eccentricity ** 2)) + alt2) * math.sin(lat2_rad)\n",
    "\n",
    "    distance = math.sqrt((x2 - x1)**2 + (y2 - y1)**2 + (z2 - z1)**2)\n",
    "    return distance"
   ]
  },
  {
   "attachments": {},
   "cell_type": "markdown",
   "metadata": {},
   "source": [
    "#### Conversion"
   ]
  },
  {
   "cell_type": "code",
   "execution_count": null,
   "metadata": {},
   "outputs": [],
   "source": [
    "def Convert_3D(latitude, longitude, altitude):\n",
    "    \n",
    "    earth_radius = 6371  # Radius of the Earth in kilometers\n",
    "    latitude_rad = math.radians(latitude)\n",
    "    longitude_rad = math.radians(longitude)\n",
    "\n",
    "    equatorial_radius = 6378.137  # kilometers\n",
    "    polar_radius = 6356.752  # kilometers\n",
    "    eccentricity = math.sqrt(1 - (polar_radius ** 2) / (equatorial_radius ** 2))\n",
    "\n",
    "    # Heathrow Airport coordinates to x, y, z coordinates\n",
    "    x = (equatorial_radius + altitude) * math.cos(latitude_rad) * math.cos(longitude_rad)\n",
    "    y = (equatorial_radius + altitude) * math.cos(latitude_rad) * math.sin(longitude_rad)\n",
    "    z = ((equatorial_radius * (1 - eccentricity ** 2)) + altitude) * math.sin(latitude_rad)\n",
    "    \n",
    "    return x, y, z"
   ]
  },
  {
   "attachments": {},
   "cell_type": "markdown",
   "metadata": {},
   "source": [
    "#### To find transmission rate"
   ]
  },
  {
   "attachments": {},
   "cell_type": "markdown",
   "metadata": {},
   "source": [
    "##### Function to calculate the data transmission rate based on the distance between airplanes"
   ]
  },
  {
   "cell_type": "code",
   "execution_count": null,
   "metadata": {},
   "outputs": [],
   "source": [
    "def calculate_transmission_rate(distance):\n",
    "    if 300 <= distance < 400:\n",
    "        return 52.857\n",
    "    elif 400 <= distance < 500:\n",
    "        return 43.505\n",
    "    elif 500 <= distance:\n",
    "        return 31.895\n",
    "    elif 190 <= distance < 300:\n",
    "        return 63.970\n",
    "    elif 90 <= distance < 190:\n",
    "        return 77.071\n",
    "    elif 35 <= distance < 90:\n",
    "        return 93.854\n",
    "    elif 5.56 <= distance < 35:\n",
    "        return 119.130\n",
    "    else:\n",
    "        return 0"
   ]
  },
  {
   "attachments": {},
   "cell_type": "markdown",
   "metadata": {},
   "source": [
    "#### Single Objective Optimization"
   ]
  },
  {
   "cell_type": "code",
   "execution_count": null,
   "metadata": {},
   "outputs": [],
   "source": [
    "# Load and preprocess the dataset\n",
    "airplanes = []\n",
    "ground_stations = []\n",
    "\n",
    "flight_name=input(\"Enter starting string code of flight: \")\n",
    "with open('NA_11_Jun_29_2018_UTC11_Output.csv', 'r') as file:\n",
    "    reader = csv.reader(file)\n",
    "    next(reader)  # Skip the header row\n",
    "    for row in reader:\n",
    "        flight_no = row[0]\n",
    "        altitude = float(row[2])\n",
    "        latitude = float(row[3])\n",
    "        longitude = float(row[4])\n",
    "\n",
    "        # Convert latitude, longitude, and altitude to 3D Cartesian coordinates\n",
    "        coordinates = Convert_3D(longitude, latitude, altitude)\n",
    "        x = coordinates[0]\n",
    "        y = coordinates[1]\n",
    "        z = coordinates[2]\n",
    "\n",
    "        if flight_no.startswith(flight_name):\n",
    "            airplanes.append((flight_no, x, y, z))\n",
    "        else:\n",
    "            ground_stations.append((flight_no, x, y, z))"
   ]
  },
  {
   "cell_type": "code",
   "execution_count": null,
   "metadata": {},
   "outputs": [],
   "source": [
    "def find_max_data_rate_routing_paths(airplanes, ground_stations):\n",
    "    routing_paths = []\n",
    "\n",
    "    for airplane in airplanes:\n",
    "        airplane_id, x_airplane, y_airplane, z_airplane = airplane\n",
    "        max_data_rate = 0.0\n",
    "        max_data_rate_path = []\n",
    "\n",
    "        for ground_station in ground_stations:\n",
    "            ground_station_id, x_gs, y_gs, z_gs = ground_station\n",
    "\n",
    "            # Calculate the distance between the airplane and ground station\n",
    "            distance = calculate_distance(x_airplane, y_airplane, z_airplane, x_gs, y_gs, z_gs)\n",
    "\n",
    "            # Calculate the data transmission rate for the link\n",
    "            transmission_rate = calculate_transmission_rate(distance)\n",
    "\n",
    "            if transmission_rate > max_data_rate:\n",
    "                max_data_rate = transmission_rate\n",
    "                max_data_rate_path = [(ground_station_id, max_data_rate)]\n",
    "\n",
    "        routing_paths.append({'Airplane': airplane_id, 'Routing Path': max_data_rate_path, 'End-to-End Data Rate': max_data_rate})\n",
    "\n",
    "    return routing_paths\n",
    "\n",
    "# Call the function to find the routing paths with maximum data transmission rate\n",
    "routing_paths = find_max_data_rate_routing_paths(airplanes, ground_stations)\n",
    "\n",
    "# Print the routing paths and their respective data transmission rates\n",
    "for path in routing_paths:\n",
    "    print(path)"
   ]
  }
 ],
 "metadata": {
  "kernelspec": {
   "display_name": "base",
   "language": "python",
   "name": "python3"
  },
  "language_info": {
   "codemirror_mode": {
    "name": "ipython",
    "version": 3
   },
   "file_extension": ".py",
   "mimetype": "text/x-python",
   "name": "python",
   "nbconvert_exporter": "python",
   "pygments_lexer": "ipython3",
   "version": "3.10.9"
  },
  "orig_nbformat": 4
 },
 "nbformat": 4,
 "nbformat_minor": 2
}
