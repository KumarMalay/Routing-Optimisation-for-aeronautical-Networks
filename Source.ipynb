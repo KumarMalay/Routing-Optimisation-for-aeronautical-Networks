{
 "cells": [
  {
   "attachments": {},
   "cell_type": "markdown",
   "metadata": {},
   "source": [
    "### ***READING THE DATASET***\n",
    "#### Formatting the Dataset\n"
   ]
  },
  {
   "cell_type": "code",
   "execution_count": null,
   "metadata": {},
   "outputs": [],
   "source": [
    "Abcd"
   ]
  },
  {
   "cell_type": "code",
   "execution_count": 10,
   "metadata": {},
   "outputs": [
    {
     "name": "stdout",
     "output_type": "stream",
     "text": [
      "  Flight No     TimeStamp  Altitude   Latitude  longitude\n",
      "0     AA101  1.530270e+09   38975.0  53.936440 -14.502541\n",
      "1     AA151  1.530270e+09   35975.0  49.129004  -4.044335\n",
      "2     AA198  1.530270e+09       0.0  39.792819 -72.778591\n",
      "3     AA204  1.530270e+09       0.0  40.222121 -73.325611\n",
      "4     AA209  1.530270e+09   37975.0  60.809745 -29.756008\n"
     ]
    }
   ],
   "source": [
    "import math\n",
    "import pandas as pd\n",
    "\n",
    "#Adding Column Name\n",
    "column_name = [\"Flight No\", \"TimeStamp\", \"Altitude\", \"Latitude\", \"longitude\"]\n",
    "#Reading CSV file\n",
    "df = pd.read_csv(\"NA_11_Jun_29_2018_UTC11.CSV\", sep=\" \", names = column_name)\n",
    "#Updated CSV file\n",
    "df.to_csv(\"NA_11_Jun_29_2018_UTC11_Output.CSV\", index=False)\n",
    "print(df.head())\n",
    "\n",
    "\n"
   ]
  },
  {
   "attachments": {},
   "cell_type": "markdown",
   "metadata": {},
   "source": [
    "### Updated CSV File"
   ]
  },
  {
   "cell_type": "code",
   "execution_count": 12,
   "metadata": {},
   "outputs": [
    {
     "name": "stdout",
     "output_type": "stream",
     "text": [
      "  Flight No     TimeStamp  Altitude   Latitude  longitude\n",
      "0     AA101  1.530270e+09   38975.0  53.936440 -14.502541\n",
      "1     AA151  1.530270e+09   35975.0  49.129004  -4.044335\n",
      "2     AA198  1.530270e+09       0.0  39.792819 -72.778591\n",
      "3     AA204  1.530270e+09       0.0  40.222121 -73.325611\n",
      "4     AA209  1.530270e+09   37975.0  60.809745 -29.756008\n",
      "    Flight No     TimeStamp    Altitude   Latitude  longitude\n",
      "144     UA963  1.530270e+09  32000.0000  53.959758 -22.201168\n",
      "145     UA971  1.530270e+09  34000.0000  53.397706  -2.947119\n",
      "146     UA973  1.530270e+09  33996.3115  55.451382  -8.613339\n",
      "147     UA975  1.530270e+09  32000.0000  49.448514  -3.242188\n",
      "148     UA986  1.530270e+09  33986.1538  52.085831  -4.653686\n"
     ]
    }
   ],
   "source": [
    "df = pd.read_csv(\"NA_11_Jun_29_2018_UTC11_Output.CSV\")\n",
    "print(df.head())\n",
    "print(df.tail())"
   ]
  }
 ],
 "metadata": {
  "kernelspec": {
   "display_name": "base",
   "language": "python",
   "name": "python3"
  },
  "language_info": {
   "codemirror_mode": {
    "name": "ipython",
    "version": 3
   },
   "file_extension": ".py",
   "mimetype": "text/x-python",
   "name": "python",
   "nbconvert_exporter": "python",
   "pygments_lexer": "ipython3",
   "version": "3.10.9"
  },
  "orig_nbformat": 4
 },
 "nbformat": 4,
 "nbformat_minor": 2
}
