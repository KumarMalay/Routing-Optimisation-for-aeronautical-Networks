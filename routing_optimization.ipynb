{
 "cells": [
  {
   "attachments": {},
   "cell_type": "markdown",
   "metadata": {},
   "source": [
    "### Routing Optimization"
   ]
  },
  {
   "cell_type": "code",
   "execution_count": 4,
   "metadata": {},
   "outputs": [
    {
     "ename": "IndexError",
     "evalue": "list index out of range",
     "output_type": "error",
     "traceback": [
      "\u001b[1;31m---------------------------------------------------------------------------\u001b[0m",
      "\u001b[1;31mIndexError\u001b[0m                                Traceback (most recent call last)",
      "Cell \u001b[1;32mIn[4], line 41\u001b[0m\n\u001b[0;32m     39\u001b[0m \u001b[39m# Load dataset\u001b[39;00m\n\u001b[0;32m     40\u001b[0m dataset_path \u001b[39m=\u001b[39m \u001b[39m'\u001b[39m\u001b[39mNA_11_Jun_29_2018_UTC11.CSV\u001b[39m\u001b[39m'\u001b[39m\n\u001b[1;32m---> 41\u001b[0m flights \u001b[39m=\u001b[39m load_dataset(dataset_path)\n",
      "Cell \u001b[1;32mIn[4], line 13\u001b[0m, in \u001b[0;36mload_dataset\u001b[1;34m(file_path)\u001b[0m\n\u001b[0;32m      9\u001b[0m     \u001b[39mnext\u001b[39m(reader)  \u001b[39m# Skip header row\u001b[39;00m\n\u001b[0;32m     10\u001b[0m     \u001b[39mfor\u001b[39;00m row \u001b[39min\u001b[39;00m reader:\n\u001b[0;32m     11\u001b[0m         flight \u001b[39m=\u001b[39m {\n\u001b[0;32m     12\u001b[0m             \u001b[39m'\u001b[39m\u001b[39mflight_no\u001b[39m\u001b[39m'\u001b[39m: row[\u001b[39m0\u001b[39m],\n\u001b[1;32m---> 13\u001b[0m             \u001b[39m'\u001b[39m\u001b[39mtimestamp\u001b[39m\u001b[39m'\u001b[39m: row[\u001b[39m1\u001b[39;49m],\n\u001b[0;32m     14\u001b[0m             \u001b[39m'\u001b[39m\u001b[39maltitude\u001b[39m\u001b[39m'\u001b[39m: \u001b[39mfloat\u001b[39m(row[\u001b[39m2\u001b[39m]),\n\u001b[0;32m     15\u001b[0m             \u001b[39m'\u001b[39m\u001b[39mlatitude\u001b[39m\u001b[39m'\u001b[39m: \u001b[39mfloat\u001b[39m(row[\u001b[39m3\u001b[39m]),\n\u001b[0;32m     16\u001b[0m             \u001b[39m'\u001b[39m\u001b[39mlongitude\u001b[39m\u001b[39m'\u001b[39m: \u001b[39mfloat\u001b[39m(row[\u001b[39m4\u001b[39m])\n\u001b[0;32m     17\u001b[0m         }\n\u001b[0;32m     18\u001b[0m         flights\u001b[39m.\u001b[39mappend(flight)\n\u001b[0;32m     19\u001b[0m \u001b[39mreturn\u001b[39;00m flights\n",
      "\u001b[1;31mIndexError\u001b[0m: list index out of range"
     ]
    }
   ],
   "source": [
    "import csv\n",
    "import math\n",
    "\n",
    "\n",
    "def load_dataset(file_path):\n",
    "    flights = []\n",
    "    with open(file_path, 'r') as file:\n",
    "        reader = csv.reader(file)\n",
    "        next(reader)  # Skip header row\n",
    "        for row in reader:\n",
    "            flight = {\n",
    "                'flight_no': row[0],\n",
    "                'timestamp': row[1],\n",
    "                'altitude': float(row[2]),\n",
    "                'latitude': float(row[3]),\n",
    "                'longitude': float(row[4])\n",
    "            }\n",
    "            flights.append(flight)\n",
    "    return flights\n",
    "\n",
    "def calculate_distance(lat1, lon1, alt1, lat2, lon2, alt2):\n",
    "    earth_radius = 6371  # Radius of the Earth in kilometers\n",
    "    lat1_rad = math.radians(lat1)\n",
    "    lon1_rad = math.radians(lon1)\n",
    "    lat2_rad = math.radians(lat2)\n",
    "    lon2_rad = math.radians(lon2)\n",
    "\n",
    "    x1 = (earth_radius + alt1) * math.cos(lat1_rad) * math.cos(lon1_rad)\n",
    "    y1 = (earth_radius + alt1) * math.cos(lat1_rad) * math.sin(lon1_rad)\n",
    "    z1 = (earth_radius + alt1) * math.sin(lat1_rad)\n",
    "\n",
    "    x2 = (earth_radius + alt2) * math.cos(lat2_rad) * math.cos(lon2_rad)\n",
    "    y2 = (earth_radius + alt2) * math.cos(lat2_rad) * math.sin(lon2_rad)\n",
    "    z2 = (earth_radius + alt2) * math.sin(lat2_rad)\n",
    "\n",
    "    distance = math.sqrt((x2 - x1)**2 + (y2 - y1)**2 + (z2 - z1)**2)\n",
    "    return distance\n",
    "\n",
    "# Load dataset\n",
    "file_path = \"NA_11_Jun_29_2018_UTC11_Output.CSV\"\n",
    "flights = load_dataset(file_path)"
   ]
  }
 ],
 "metadata": {
  "kernelspec": {
   "display_name": "base",
   "language": "python",
   "name": "python3"
  },
  "language_info": {
   "codemirror_mode": {
    "name": "ipython",
    "version": 3
   },
   "file_extension": ".py",
   "mimetype": "text/x-python",
   "name": "python",
   "nbconvert_exporter": "python",
   "pygments_lexer": "ipython3",
   "version": "3.10.9"
  },
  "orig_nbformat": 4
 },
 "nbformat": 4,
 "nbformat_minor": 2
}
