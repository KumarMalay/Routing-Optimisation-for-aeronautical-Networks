{
 "cells": [
  {
   "attachments": {},
   "cell_type": "markdown",
   "metadata": {},
   "source": [
    "### Routing Optimization"
   ]
  },
  {
   "cell_type": "code",
   "execution_count": 5,
   "metadata": {},
   "outputs": [],
   "source": [
    "import csv\n",
    "import math\n",
    "\n",
    "\n",
    "def load_dataset(file_path):\n",
    "    flights = []\n",
    "    with open(file_path, 'r') as file:\n",
    "        reader = csv.reader(file)\n",
    "        next(reader)  # Skip header row\n",
    "        for row in reader:\n",
    "            flight = {\n",
    "                'flight_no': row[0],\n",
    "                'timestamp': row[1],\n",
    "                'altitude': float(row[2]),\n",
    "                'latitude': float(row[3]),\n",
    "                'longitude': float(row[4])\n",
    "            }\n",
    "            flights.append(flight)\n",
    "    return flights\n",
    "\n",
    "def calculate_distance(lat1, lon1, alt1, lat2, lon2, alt2):\n",
    "    earth_radius = 6371  # Radius of the Earth in kilometers\n",
    "    lat1_rad = math.radians(lat1)\n",
    "    lon1_rad = math.radians(lon1)\n",
    "    lat2_rad = math.radians(lat2)\n",
    "    lon2_rad = math.radians(lon2)\n",
    "\n",
    "    x1 = (earth_radius + alt1) * math.cos(lat1_rad) * math.cos(lon1_rad)\n",
    "    y1 = (earth_radius + alt1) * math.cos(lat1_rad) * math.sin(lon1_rad)\n",
    "    z1 = (earth_radius + alt1) * math.sin(lat1_rad)\n",
    "\n",
    "    x2 = (earth_radius + alt2) * math.cos(lat2_rad) * math.cos(lon2_rad)\n",
    "    y2 = (earth_radius + alt2) * math.cos(lat2_rad) * math.sin(lon2_rad)\n",
    "    z2 = (earth_radius + alt2) * math.sin(lat2_rad)\n",
    "\n",
    "    distance = math.sqrt((x2 - x1)**2 + (y2 - y1)**2 + (z2 - z1)**2)\n",
    "    return distance\n",
    "\n",
    "# Load dataset\n",
    "file_path = \"NA_11_Jun_29_2018_UTC11_Output.CSV\"\n",
    "flights = load_dataset(file_path)"
   ]
  }
 ],
 "metadata": {
  "kernelspec": {
   "display_name": "base",
   "language": "python",
   "name": "python3"
  },
  "language_info": {
   "codemirror_mode": {
    "name": "ipython",
    "version": 3
   },
   "file_extension": ".py",
   "mimetype": "text/x-python",
   "name": "python",
   "nbconvert_exporter": "python",
   "pygments_lexer": "ipython3",
   "version": "3.10.9"
  },
  "orig_nbformat": 4
 },
 "nbformat": 4,
 "nbformat_minor": 2
}
